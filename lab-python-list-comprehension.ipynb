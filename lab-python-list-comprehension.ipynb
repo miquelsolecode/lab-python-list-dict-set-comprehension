{
 "cells": [
  {
   "cell_type": "markdown",
   "id": "7dd3cbde-675a-4b81-92c3-f728846dbe06",
   "metadata": {},
   "source": [
    "## Exercise: Managing Customer Orders Optimized with Comprehension"
   ]
  },
  {
   "cell_type": "markdown",
   "id": "25d7736c-ba17-4aff-b6bb-66eba20fbf4e",
   "metadata": {},
   "source": [
    "# Lab | List, Dict and Set Comprehension"
   ]
  },
  {
   "cell_type": "markdown",
   "id": "5d500160-2fb7-4777-b5e4-09d45ebaf328",
   "metadata": {},
   "source": [
    "In the previous exercise, you developed a program to manage customer orders and inventory. Now, let's take it a step further and incorporate comprehension into your code.\n",
    "\n",
    "Follow the steps below to complete the exercise:\n",
    "\n",
    "1. Review your code from the previous exercise and identify areas where you can apply comprehension to simplify and streamline your code. \n",
    "\n",
    "    - *Hint: Apply it to initialize inventory, updating the inventory and printing the updated inventory.*\n",
    "    \n",
    "    - For example, in initializing the inventory, we could have:\n",
    "    \n",
    "        ```python\n",
    "        def initialize_inventory(products):\n",
    "            inventory[product] = {int(input(f\"Enter the quantity of {product}s available: \")) for product in products}\n",
    "            return inventory\n",
    "\n",
    "        ```\n",
    "<br>\n",
    "    \n",
    "    \n",
    "2. Modify the function get_customer_orders so it prompts the user to enter the number of customer orders and gathers the product names using a loop and user input. Use comprehension.\n",
    "\n",
    "3. Add a new function to calculate the total price of the customer order. For each product in customer_orders, prompt the user to enter the price of that product. Use comprehension to calculate the total price. Note: assume that the user can only have 1 unit of each product.\n",
    "\n",
    "4. Modify the update_inventory function to remove the product from the inventory if its quantity becomes zero after fulfilling the customer orders. Use comprehension to filter out the products with a quantity of zero from the inventory.\n",
    "\n",
    "5. Print the total price of the customer order.\n",
    "\n",
    "Your code should produce output similar to the following:\n",
    "\n",
    "```python\n",
    "Enter the quantity of t-shirts available:  5\n",
    "Enter the quantity of mugs available:  4\n",
    "Enter the quantity of hats available:  3\n",
    "Enter the quantity of books available:  2\n",
    "Enter the quantity of keychains available:  1\n",
    "Enter the number of customer orders:  2\n",
    "Enter the name of a product that a customer wants to order:  hat\n",
    "Enter the name of a product that a customer wants to order:  keychain\n",
    "\n",
    "Order Statistics:\n",
    "Total Products Ordered: 2\n",
    "Percentage of Unique Products Ordered: 40.0\n",
    "\n",
    "Updated Inventory:\n",
    "t-shirt: 5\n",
    "mug: 4\n",
    "hat: 2\n",
    "book: 2\n",
    "Enter the price of keychain:  5\n",
    "Enter the price of hat:  10\n",
    "Total Price: 15.0\n",
    "\n",
    "```\n"
   ]
  },
  {
   "cell_type": "code",
   "execution_count": 26,
   "id": "a3027161-2d14-4887-8e49-3fe8c7e09478",
   "metadata": {},
   "outputs": [],
   "source": [
    "products = [\"t-shirt\", \"mug\", \"hat\", \"book\", \"keychain\"]"
   ]
  },
  {
   "cell_type": "code",
   "execution_count": 27,
   "id": "29d4d985",
   "metadata": {},
   "outputs": [],
   "source": [
    "def initialize_inventory(products : list) -> dict:\n",
    "    '''\n",
    "    This function is gonna ask the user to input the number\n",
    "    of items of each kind that are in the inventory\n",
    "\n",
    "    arguments:\n",
    "        list: the function will iterate through the list of products available\n",
    "\n",
    "    returns:\n",
    "        list: the complete inventory at the moment of the input\n",
    "    '''\n",
    "\n",
    "    inventory = {}\n",
    "    \n",
    "    inventory = {product: int(input(f\"Enter the quantity of {product}s available: \")) for product in products}\n",
    "   \n",
    "    return inventory\n"
   ]
  },
  {
   "cell_type": "code",
   "execution_count": 28,
   "id": "42418680",
   "metadata": {},
   "outputs": [],
   "source": [
    "def get_customer_orders():\n",
    "    \n",
    "    '''\n",
    "    This function is gonna ask the user to input an series of products until he's done, \n",
    "    and add them to his order \n",
    "    \n",
    "    arguments:\n",
    "        str: the arguments are not defined, because they're inputs inserted by the customer, therefore\n",
    "        not existent until they're written\n",
    "\n",
    "    returns:\n",
    "        list: the complete order of the customer\n",
    "    '''\n",
    "\n",
    "    customer_order = set()\n",
    "    other_product = \"yes\"  #flagging: otorgar un valor por defecto a una variable\n",
    "    \n",
    "    while other_product == \"yes\":\n",
    "        order_product = input(\"Enter the name of a product that a customer wants to order: \")\n",
    "        if order_product in products:\n",
    "            customer_order.add(order_product)\n",
    "            \n",
    "        else:\n",
    "            print(\"insert a valid order\")\n",
    "        other_product = input(\"Do you want to add another product?:\")\n",
    "        \n",
    "\n",
    "    return(customer_order)       "
   ]
  },
  {
   "cell_type": "code",
   "execution_count": 29,
   "id": "e9607bde",
   "metadata": {},
   "outputs": [],
   "source": [
    "#customer_order[price] = {int(input(f\"Enter the price of a {product}\")) for product in customer_order}\n",
    "#Alternative code for the function below, in case it presents any issue"
   ]
  },
  {
   "cell_type": "code",
   "execution_count": 90,
   "id": "3fce794e",
   "metadata": {},
   "outputs": [],
   "source": [
    "def price_customer_order(customer_order : set): \n",
    "    price_of_items = []\n",
    "    #price = [product]\n",
    "\n",
    "    price_of_items = {float(input(f\"Enter the price of a {product}\")) for product in customer_order}\n",
    "    return(price_of_items)\n",
    "    \n",
    "    '''\n",
    "    We prompt the user to enter the price of each item ordered from the costumer (considering that we execute the task of the seller, and the costumer)\n",
    "\n",
    "    arguments:\n",
    "        A set previously defined by the imputs of the costumer\n",
    "\n",
    "    Returns:\n",
    "        It shall return a dictionary, with each element of the set with an assigned value\n",
    "    '''"
   ]
  },
  {
   "cell_type": "code",
   "execution_count": 31,
   "id": "fc467d6d",
   "metadata": {},
   "outputs": [],
   "source": [
    "def update_inventory(customer_order : set, inventory : dict) -> dict:\n",
    "    \n",
    "    for product in customer_order:\n",
    "        if inventory[product] < 1:\n",
    "            del inventory[product]\n",
    "        else:\n",
    "            inventory[product] -= 1\n",
    "            \n",
    "    return inventory\n",
    "        #the Inventory actualises itself since it's a collection, but as a rule of thumb, we should always use return (return inventory)\n",
    "        #inventory = "
   ]
  },
  {
   "cell_type": "code",
   "execution_count": 32,
   "id": "8630fe5f",
   "metadata": {},
   "outputs": [],
   "source": [
    "#step 4\n",
    "\n",
    "def calculate_order_statistics(customer_order, products):\n",
    "    # Tipo de dato de entrada \n",
    "    total_order = len(customer_order)\n",
    "    percentage = (total_order/len(products))*100\n",
    "\n",
    "    return total_order, percentage\n",
    "\n"
   ]
  },
  {
   "cell_type": "code",
   "execution_count": 33,
   "id": "5876d224",
   "metadata": {},
   "outputs": [],
   "source": [
    "def print_order_statistics(order_statistics):\n",
    "    print(f\"La orden total es {order_statistics[0]} y su porcentage sobre el total es {order_statistics[1]}\")"
   ]
  },
  {
   "cell_type": "code",
   "execution_count": 34,
   "id": "ba0ccada",
   "metadata": {},
   "outputs": [],
   "source": [
    "def print_updated_inventory(inventory):\n",
    "    print(inventory) #imprime el inventario actualizado"
   ]
  },
  {
   "cell_type": "code",
   "execution_count": 93,
   "id": "37345509",
   "metadata": {},
   "outputs": [],
   "source": [
    "inventory = initialize_inventory(products)"
   ]
  },
  {
   "cell_type": "code",
   "execution_count": 94,
   "id": "87fc0a55",
   "metadata": {},
   "outputs": [],
   "source": [
    "customer_order = get_customer_orders()"
   ]
  },
  {
   "cell_type": "code",
   "execution_count": 95,
   "id": "91aa2695",
   "metadata": {},
   "outputs": [],
   "source": [
    "price_of_items = price_customer_order(customer_order)"
   ]
  },
  {
   "cell_type": "code",
   "execution_count": 96,
   "id": "69b392ee",
   "metadata": {},
   "outputs": [],
   "source": [
    "updated_inventory = update_inventory(customer_order, inventory)"
   ]
  },
  {
   "cell_type": "code",
   "execution_count": 97,
   "id": "12e0b77c",
   "metadata": {},
   "outputs": [],
   "source": [
    "total_order, percentage = calculate_order_statistics(customer_order, products)"
   ]
  },
  {
   "cell_type": "code",
   "execution_count": 98,
   "id": "a3c72ea5",
   "metadata": {},
   "outputs": [],
   "source": [
    "order_statistics = calculate_order_statistics(customer_order, products)"
   ]
  },
  {
   "cell_type": "code",
   "execution_count": 99,
   "id": "fdfb7b75",
   "metadata": {},
   "outputs": [
    {
     "name": "stdout",
     "output_type": "stream",
     "text": [
      "5.5\n"
     ]
    }
   ],
   "source": [
    "total_price = sum(price_of_items)\n",
    "print(total_price)"
   ]
  },
  {
   "cell_type": "code",
   "execution_count": 79,
   "id": "1b2782f6",
   "metadata": {},
   "outputs": [
    {
     "name": "stdout",
     "output_type": "stream",
     "text": [
      "(1, 20.0)\n"
     ]
    }
   ],
   "source": [
    "print(order_statistics)"
   ]
  },
  {
   "cell_type": "code",
   "execution_count": 80,
   "id": "57527867",
   "metadata": {},
   "outputs": [
    {
     "name": "stdout",
     "output_type": "stream",
     "text": [
      "{'t-shirt': 2, 'mug': 2, 'hat': 1, 'book': 2, 'keychain': 2}\n"
     ]
    }
   ],
   "source": [
    "print(updated_inventory)"
   ]
  },
  {
   "cell_type": "code",
   "execution_count": 81,
   "id": "1532040b",
   "metadata": {},
   "outputs": [
    {
     "name": "stdout",
     "output_type": "stream",
     "text": [
      "{0: 5.5}\n"
     ]
    }
   ],
   "source": [
    "print(price_of_items)"
   ]
  },
  {
   "cell_type": "code",
   "execution_count": null,
   "id": "393ff7ba",
   "metadata": {},
   "outputs": [],
   "source": []
  }
 ],
 "metadata": {
  "kernelspec": {
   "display_name": "Python 3 (ipykernel)",
   "language": "python",
   "name": "python3"
  },
  "language_info": {
   "codemirror_mode": {
    "name": "ipython",
    "version": 3
   },
   "file_extension": ".py",
   "mimetype": "text/x-python",
   "name": "python",
   "nbconvert_exporter": "python",
   "pygments_lexer": "ipython3",
   "version": "3.11.7"
  }
 },
 "nbformat": 4,
 "nbformat_minor": 5
}
